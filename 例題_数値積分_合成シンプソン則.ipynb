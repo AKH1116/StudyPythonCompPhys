{
 "cells": [
  {
   "attachments": {},
   "cell_type": "markdown",
   "metadata": {},
   "source": [
    "# 例題  \n",
    "合成シンプソン則を実装して、積分$\\int_{0}^{1} e^{-x}dx$の数値積分を実行する。  \n",
    "また、刻み幅を変えて精度と計算時間の変化を確認する。  "
   ]
  },
  {
   "attachments": {},
   "cell_type": "markdown",
   "metadata": {},
   "source": [
    "## 合成シンプソン則について\n",
    "シンプソン則を微小区間に対して適用すると、以下のようになる。  \n",
    "$$\n",
    "S = \\frac{h}{3n} (f(a)+4\\sum_{i=1}^{n/2}f(x_{2i-1})+2\\sum_{i=1}^{2/n-1}f(2x_i)+f(b))\n",
    "$$\n",
    "ただし、$x_i = a + ih/n$である。また、$n$は偶数である必要がある。  \n",
    "  \n",
    "以下のコードでシンプソン則による数値積分の実装をする。"
   ]
  },
  {
   "cell_type": "code",
   "execution_count": 14,
   "metadata": {},
   "outputs": [],
   "source": [
    "import numpy as np\n",
    "\n",
    "def func(x):\n",
    "    return np.exp(-x)    # 指数関数はnumpyを用いる"
   ]
  },
  {
   "cell_type": "code",
   "execution_count": 24,
   "metadata": {},
   "outputs": [],
   "source": [
    "# 合成シンプソン則の実装\n",
    "def simpson(func, a, b, n):\n",
    "    if n%2 == 1:\n",
    "        exit(\"Error: n must be even.\")\n",
    "    h = (b - a)/n\n",
    "    n2 = n//2\n",
    "    x_odd = np.linspace(a+h, b-h, n2)\n",
    "    x_even = np.linspace(a+2*h, b-2*h, n2-1)\n",
    "    f_odd = 4 * np.sum(func(x_odd))\n",
    "    f_even = 2 * np.sum(func(x_even))\n",
    "    f_edge = func(a) + func(b)\n",
    "    return h * (f_odd + f_even + f_edge) / 3"
   ]
  },
  {
   "cell_type": "code",
   "execution_count": 25,
   "metadata": {},
   "outputs": [
    {
     "ename": "TypeError",
     "evalue": "'float' object cannot be interpreted as an integer",
     "output_type": "error",
     "traceback": [
      "\u001b[0;31m---------------------------------------------------------------------------\u001b[0m",
      "\u001b[0;31mTypeError\u001b[0m                                 Traceback (most recent call last)",
      "\u001b[1;32m/Users/akohi/Documents/GitHub/StudyPythonCompPhys/例題_数値積分_合成シンプソン則.ipynb セル 5\u001b[0m in \u001b[0;36m4\n\u001b[1;32m      <a href='vscode-notebook-cell:/Users/akohi/Documents/GitHub/StudyPythonCompPhys/%E4%BE%8B%E9%A1%8C_%E6%95%B0%E5%80%A4%E7%A9%8D%E5%88%86_%E5%90%88%E6%88%90%E3%82%B7%E3%83%B3%E3%83%97%E3%82%BD%E3%83%B3%E5%89%87.ipynb#W4sZmlsZQ%3D%3D?line=1'>2</a>\u001b[0m \u001b[39m#for n in [10**i for i in range(0, 7, 2)]:\u001b[39;00m\n\u001b[1;32m      <a href='vscode-notebook-cell:/Users/akohi/Documents/GitHub/StudyPythonCompPhys/%E4%BE%8B%E9%A1%8C_%E6%95%B0%E5%80%A4%E7%A9%8D%E5%88%86_%E5%90%88%E6%88%90%E3%82%B7%E3%83%B3%E3%83%97%E3%82%BD%E3%83%B3%E5%89%87.ipynb#W4sZmlsZQ%3D%3D?line=2'>3</a>\u001b[0m n \u001b[39m=\u001b[39m \u001b[39m100\u001b[39m\n\u001b[0;32m----> <a href='vscode-notebook-cell:/Users/akohi/Documents/GitHub/StudyPythonCompPhys/%E4%BE%8B%E9%A1%8C_%E6%95%B0%E5%80%A4%E7%A9%8D%E5%88%86_%E5%90%88%E6%88%90%E3%82%B7%E3%83%B3%E3%83%97%E3%82%BD%E3%83%B3%E5%89%87.ipynb#W4sZmlsZQ%3D%3D?line=3'>4</a>\u001b[0m S \u001b[39m=\u001b[39m simpson(func, \u001b[39m0\u001b[39;49m, \u001b[39m1\u001b[39;49m, n)\n\u001b[1;32m      <a href='vscode-notebook-cell:/Users/akohi/Documents/GitHub/StudyPythonCompPhys/%E4%BE%8B%E9%A1%8C_%E6%95%B0%E5%80%A4%E7%A9%8D%E5%88%86_%E5%90%88%E6%88%90%E3%82%B7%E3%83%B3%E3%83%97%E3%82%BD%E3%83%B3%E5%89%87.ipynb#W4sZmlsZQ%3D%3D?line=4'>5</a>\u001b[0m error \u001b[39m=\u001b[39m \u001b[39mabs\u001b[39m((S \u001b[39m-\u001b[39m I)\u001b[39m/\u001b[39mI)\n\u001b[1;32m      <a href='vscode-notebook-cell:/Users/akohi/Documents/GitHub/StudyPythonCompPhys/%E4%BE%8B%E9%A1%8C_%E6%95%B0%E5%80%A4%E7%A9%8D%E5%88%86_%E5%90%88%E6%88%90%E3%82%B7%E3%83%B3%E3%83%97%E3%82%BD%E3%83%B3%E5%89%87.ipynb#W4sZmlsZQ%3D%3D?line=5'>6</a>\u001b[0m txt \u001b[39m=\u001b[39m \u001b[39m\"\u001b[39m\u001b[39mn=\u001b[39m\u001b[39m{0:.0e}\u001b[39;00m\u001b[39m, S=\u001b[39m\u001b[39m{1:.2e}\u001b[39;00m\u001b[39m, e=\u001b[39m\u001b[39m{2:.3e}\u001b[39;00m\u001b[39m\"\u001b[39m\u001b[39m.\u001b[39mformat(n, S, error)\n",
      "\u001b[1;32m/Users/akohi/Documents/GitHub/StudyPythonCompPhys/例題_数値積分_合成シンプソン則.ipynb セル 5\u001b[0m in \u001b[0;36m7\n\u001b[1;32m      <a href='vscode-notebook-cell:/Users/akohi/Documents/GitHub/StudyPythonCompPhys/%E4%BE%8B%E9%A1%8C_%E6%95%B0%E5%80%A4%E7%A9%8D%E5%88%86_%E5%90%88%E6%88%90%E3%82%B7%E3%83%B3%E3%83%97%E3%82%BD%E3%83%B3%E5%89%87.ipynb#W4sZmlsZQ%3D%3D?line=4'>5</a>\u001b[0m h \u001b[39m=\u001b[39m (b \u001b[39m-\u001b[39m a)\u001b[39m/\u001b[39mn\n\u001b[1;32m      <a href='vscode-notebook-cell:/Users/akohi/Documents/GitHub/StudyPythonCompPhys/%E4%BE%8B%E9%A1%8C_%E6%95%B0%E5%80%A4%E7%A9%8D%E5%88%86_%E5%90%88%E6%88%90%E3%82%B7%E3%83%B3%E3%83%97%E3%82%BD%E3%83%B3%E5%89%87.ipynb#W4sZmlsZQ%3D%3D?line=5'>6</a>\u001b[0m n2 \u001b[39m=\u001b[39m n\u001b[39m/\u001b[39m\u001b[39m2\u001b[39m\n\u001b[0;32m----> <a href='vscode-notebook-cell:/Users/akohi/Documents/GitHub/StudyPythonCompPhys/%E4%BE%8B%E9%A1%8C_%E6%95%B0%E5%80%A4%E7%A9%8D%E5%88%86_%E5%90%88%E6%88%90%E3%82%B7%E3%83%B3%E3%83%97%E3%82%BD%E3%83%B3%E5%89%87.ipynb#W4sZmlsZQ%3D%3D?line=6'>7</a>\u001b[0m x_odd \u001b[39m=\u001b[39m np\u001b[39m.\u001b[39;49mlinspace(a\u001b[39m+\u001b[39;49mh, b\u001b[39m-\u001b[39;49mh, n2)\n\u001b[1;32m      <a href='vscode-notebook-cell:/Users/akohi/Documents/GitHub/StudyPythonCompPhys/%E4%BE%8B%E9%A1%8C_%E6%95%B0%E5%80%A4%E7%A9%8D%E5%88%86_%E5%90%88%E6%88%90%E3%82%B7%E3%83%B3%E3%83%97%E3%82%BD%E3%83%B3%E5%89%87.ipynb#W4sZmlsZQ%3D%3D?line=7'>8</a>\u001b[0m x_even \u001b[39m=\u001b[39m np\u001b[39m.\u001b[39mlinspace(a\u001b[39m+\u001b[39m\u001b[39m2\u001b[39m\u001b[39m*\u001b[39mh, b\u001b[39m-\u001b[39m\u001b[39m2\u001b[39m\u001b[39m*\u001b[39mh, n2\u001b[39m-\u001b[39m\u001b[39m1\u001b[39m)\n\u001b[1;32m      <a href='vscode-notebook-cell:/Users/akohi/Documents/GitHub/StudyPythonCompPhys/%E4%BE%8B%E9%A1%8C_%E6%95%B0%E5%80%A4%E7%A9%8D%E5%88%86_%E5%90%88%E6%88%90%E3%82%B7%E3%83%B3%E3%83%97%E3%82%BD%E3%83%B3%E5%89%87.ipynb#W4sZmlsZQ%3D%3D?line=8'>9</a>\u001b[0m f_odd \u001b[39m=\u001b[39m \u001b[39m4\u001b[39m \u001b[39m*\u001b[39m np\u001b[39m.\u001b[39msum(func(x_odd))\n",
      "File \u001b[0;32m<__array_function__ internals>:180\u001b[0m, in \u001b[0;36mlinspace\u001b[0;34m(*args, **kwargs)\u001b[0m\n",
      "File \u001b[0;32m~/.pyenv/versions/3.10.7/lib/python3.10/site-packages/numpy/core/function_base.py:120\u001b[0m, in \u001b[0;36mlinspace\u001b[0;34m(start, stop, num, endpoint, retstep, dtype, axis)\u001b[0m\n\u001b[1;32m     23\u001b[0m \u001b[39m@array_function_dispatch\u001b[39m(_linspace_dispatcher)\n\u001b[1;32m     24\u001b[0m \u001b[39mdef\u001b[39;00m \u001b[39mlinspace\u001b[39m(start, stop, num\u001b[39m=\u001b[39m\u001b[39m50\u001b[39m, endpoint\u001b[39m=\u001b[39m\u001b[39mTrue\u001b[39;00m, retstep\u001b[39m=\u001b[39m\u001b[39mFalse\u001b[39;00m, dtype\u001b[39m=\u001b[39m\u001b[39mNone\u001b[39;00m,\n\u001b[1;32m     25\u001b[0m              axis\u001b[39m=\u001b[39m\u001b[39m0\u001b[39m):\n\u001b[1;32m     26\u001b[0m     \u001b[39m\"\"\"\u001b[39;00m\n\u001b[1;32m     27\u001b[0m \u001b[39m    Return evenly spaced numbers over a specified interval.\u001b[39;00m\n\u001b[1;32m     28\u001b[0m \n\u001b[0;32m   (...)\u001b[0m\n\u001b[1;32m    118\u001b[0m \n\u001b[1;32m    119\u001b[0m \u001b[39m    \"\"\"\u001b[39;00m\n\u001b[0;32m--> 120\u001b[0m     num \u001b[39m=\u001b[39m operator\u001b[39m.\u001b[39;49mindex(num)\n\u001b[1;32m    121\u001b[0m     \u001b[39mif\u001b[39;00m num \u001b[39m<\u001b[39m \u001b[39m0\u001b[39m:\n\u001b[1;32m    122\u001b[0m         \u001b[39mraise\u001b[39;00m \u001b[39mValueError\u001b[39;00m(\u001b[39m\"\u001b[39m\u001b[39mNumber of samples, \u001b[39m\u001b[39m%s\u001b[39;00m\u001b[39m, must be non-negative.\u001b[39m\u001b[39m\"\u001b[39m \u001b[39m%\u001b[39m num)\n",
      "\u001b[0;31mTypeError\u001b[0m: 'float' object cannot be interpreted as an integer"
     ]
    }
   ],
   "source": [
    "I = 1 - np.exp(-1)   # 解析解\n",
    "#for n in [10**i for i in range(0, 7, 2)]:\n",
    "n = 100\n",
    "S = simpson(func, 0, 1, n)\n",
    "error = abs((S - I)/I)\n",
    "txt = \"n={0:.0e}, S={1:.2e}, e={2:.3e}\".format(n, S, error)\n",
    "print(txt)"
   ]
  },
  {
   "cell_type": "code",
   "execution_count": null,
   "metadata": {},
   "outputs": [],
   "source": []
  }
 ],
 "metadata": {
  "kernelspec": {
   "display_name": "Python 3",
   "language": "python",
   "name": "python3"
  },
  "language_info": {
   "codemirror_mode": {
    "name": "ipython",
    "version": 3
   },
   "file_extension": ".py",
   "mimetype": "text/x-python",
   "name": "python",
   "nbconvert_exporter": "python",
   "pygments_lexer": "ipython3",
   "version": "3.10.7"
  },
  "orig_nbformat": 4
 },
 "nbformat": 4,
 "nbformat_minor": 2
}
