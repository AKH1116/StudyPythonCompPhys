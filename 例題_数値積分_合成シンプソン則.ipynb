{
 "cells": [
  {
   "attachments": {},
   "cell_type": "markdown",
   "metadata": {},
   "source": [
    "# 例題  \n",
    "合成シンプソン則を実装して、積分$\\int_{0}^{1} e^{-x}dx$の数値積分を実行する。  \n",
    "また、刻み幅を変えて精度と計算時間の変化を確認する。  "
   ]
  },
  {
   "attachments": {},
   "cell_type": "markdown",
   "metadata": {},
   "source": [
    "## 合成シンプソン則について\n",
    "シンプソン則を微小区間に対して適用すると、以下のようになる。  \n",
    "$$\n",
    "S = \\frac{h}{3n} (f(a)+4\\sum_{i=1}^{n/2}f(x_{2i-1})+2\\sum_{i=1}^{2/n-1}f(2x_i)+f(b))\n",
    "$$\n",
    "ただし、$x_i = a + ih/n$である。また、$n$は偶数である必要がある。  \n",
    "  \n",
    "以下のコードでシンプソン則による数値積分の実装をする。"
   ]
  },
  {
   "cell_type": "code",
   "execution_count": 14,
   "metadata": {},
   "outputs": [],
   "source": [
    "import numpy as np\n",
    "\n",
    "def func(x):\n",
    "    return np.exp(-x)    # 指数関数はnumpyを用いる"
   ]
  },
  {
   "cell_type": "code",
   "execution_count": 26,
   "metadata": {},
   "outputs": [],
   "source": [
    "# 合成シンプソン則の実装\n",
    "def simpson(func, a, b, n):\n",
    "    if n%2 == 1:\n",
    "        exit(\"Error: n must be even.\")\n",
    "    h = (b - a)/n\n",
    "    n2 = n//2\n",
    "    x_odd = np.linspace(a+h, b-h, n2)\n",
    "    x_even = np.linspace(a+2*h, b-2*h, n2-1)\n",
    "    f_odd = 4 * np.sum(func(x_odd))\n",
    "    f_even = 2 * np.sum(func(x_even))\n",
    "    f_edge = func(a) + func(b)\n",
    "    return h * (f_odd + f_even + f_edge) / 3"
   ]
  },
  {
   "cell_type": "code",
   "execution_count": 27,
   "metadata": {},
   "outputs": [
    {
     "name": "stdout",
     "output_type": "stream",
     "text": [
      "n=1e+02, S=6.32e-01, e=5.555e-11\n"
     ]
    }
   ],
   "source": [
    "I = 1 - np.exp(-1)   # 解析解\n",
    "#for n in [10**i for i in range(0, 7, 2)]:\n",
    "n = 100\n",
    "S = simpson(func, 0, 1, n)\n",
    "error = abs((S - I)/I)\n",
    "txt = \"n={0:.0e}, S={1:.2e}, e={2:.3e}\".format(n, S, error)\n",
    "print(txt)"
   ]
  },
  {
   "cell_type": "code",
   "execution_count": null,
   "metadata": {},
   "outputs": [],
   "source": []
  }
 ],
 "metadata": {
  "kernelspec": {
   "display_name": "Python 3",
   "language": "python",
   "name": "python3"
  },
  "language_info": {
   "codemirror_mode": {
    "name": "ipython",
    "version": 3
   },
   "file_extension": ".py",
   "mimetype": "text/x-python",
   "name": "python",
   "nbconvert_exporter": "python",
   "pygments_lexer": "ipython3",
   "version": "3.10.7"
  },
  "orig_nbformat": 4
 },
 "nbformat": 4,
 "nbformat_minor": 2
}
