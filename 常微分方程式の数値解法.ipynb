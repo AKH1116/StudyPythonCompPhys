{
 "cells": [
  {
   "attachments": {},
   "cell_type": "markdown",
   "metadata": {},
   "source": [
    "# 常微分方程式の数値解法\n",
    "ここでは、常微分方程式の解を数値計算で求める方法について触れる。常微分方程式は、通常以下のような形で表せる。  \n",
    "$$\n",
    "\\frac{dx(t)}{dt} = f(x(t),t)\n",
    "$$\n",
    "  \n",
    "この方程式を与えられた初期条件（$x(t_0)=x_0$）の元に解くことを考える（初期値問題、Initial Value Problem）。"
   ]
  },
  {
   "attachments": {},
   "cell_type": "markdown",
   "metadata": {},
   "source": [
    "## オイラー法\n",
    "時刻$t$を$n$点に分割（離散化）し、$t_{i+1}-t_i = h > 0$とする。微分$dx/dt$を差分式に置き換えて、以下のように離散化する。  \n",
    "$$\n",
    "x(t_{i+1}) = x(t_i) + hf(x(t_i),t_i)\n",
    "$$\n",
    "以下のテイラー展開の式と見比べると、$h$の1次で打ち切った式とみなせる。  \n",
    "$$\n",
    "x(t+h)=x(t)+h\\frac{dx(t)}{dt} + \\frac{h^2}{2}\\frac{d^2x(t)}{dt^2}+O(h^3)\n",
    "      = x(t)+hf(x(t),t)+\\frac{h^2}{2}\\frac{df(x(t),t)}{dt}+O(h^3)\n",
    "$$\n",
    "  \n",
    "初期条件$x_0=x(t_0)$から出発して、$t_{i+1}$での$x(t_{i+1})$を、$t_i$における$x(t_i)$から逐次的に求めることができる。  \n",
    "  \n",
    "⇨ このように時間発展を求める手法をオイラー法という。"
   ]
  },
  {
   "attachments": {},
   "cell_type": "markdown",
   "metadata": {},
   "source": [
    "## 2次のルンゲ・クッタ法\n",
    "以下の差分式の右辺に着目する。  \n",
    "$$\n",
    "x(t_{i+1})=x(t_i)+hf(x(t_i),t_i)\n",
    "$$\n",
    "ここで、$f(x(t_i),t_i)$は、時刻$t_i$で評価されているが、中点則に従えば、むしろ以下のようにするのが望ましい。  \n",
    "$$\n",
    "x(t_{i+1})=x(t_i)+hf(x(t_i+\\frac{h}{2}),t_i+\\frac{h}{2})\n",
    "$$\n",
    "ただし、このままでは、$x(t_i+\\frac{h}{2})$は計算できない。そこで、$x(t_i+\\frac{h}{2})$をオイラー法で近似する。  \n",
    "$$\n",
    "k_1 = x(t_i)+\\frac{h}{2}f(x(t_i),t_i)\n",
    "$$\n",
    "$$\n",
    "x(t_{i+1}) = x(t_i)+hf(k_1,t_i+\\frac{h}{2})\n",
    "$$\n",
    "この近似は、2次のルンゲ・クッタ法と呼ばれる。"
   ]
  },
  {
   "attachments": {},
   "cell_type": "markdown",
   "metadata": {},
   "source": [
    "## 4次のルンゲ・クッタ法\n",
    "中点則に対応する手法　：　２次のルンゲ・クッタ法  \n",
    "シンプソン則に対応する手法　：　4次のルンゲ・クッタ法  \n",
    "4次のルンゲ・クッタ法は、以下のように表せる。  \n",
    "$$\n",
    "k_1 = f(x(t_i),t_i)\n",
    "$$\n",
    "$$\n",
    "k_2 = f(x(t_i)+\\frac{h}{2}k_1, t_i+\\frac{h}{2})\n",
    "$$\n",
    "$$\n",
    "k_3 = f(x(t_i)+\\frac{h}{2}k_2, t_i+\\frac{h}{2})\n",
    "$$\n",
    "$$\n",
    "k_4 = f(x(t_i)+hk_3, t_{i+1})\n",
    "$$\n",
    "$$\n",
    "x(t_{i+1})=x(t_i)+\\frac{1}{6}(k_1+2k_2+2k_3+k_4)\n",
    "$$　"
   ]
  },
  {
   "attachments": {},
   "cell_type": "markdown",
   "metadata": {},
   "source": [
    "## 2階の常微分方程式\n",
    "例えば、Newtonの運動方程式のように物理において現れるのは、大概2階の微分方程式である。  \n",
    "$$\n",
    "\\frac{d^2x(t)}{dt^2} = f(\\frac{dx(t)}{dt},x(t),t)\n",
    "$$\n",
    "において、新しい変数$v=dx/dt$を導入してやれば、以下のように1階の連立微分方程式として表せる。  \n",
    "$$\n",
    "\\frac{dx(t)}{dt}=v(t)\n",
    "$$\n",
    "$$\n",
    "\\frac{dv(t)}{dt}=f(v(t),x(t),t)\n",
    "$$"
   ]
  },
  {
   "attachments": {},
   "cell_type": "markdown",
   "metadata": {},
   "source": [
    "## Pythonでの実装について\n",
    "常微分方程式を扱うScipyパッケージも数値積分と同様に、scipy.integrateになる。\n",
    "特に、初期値問題を解く場合は、このパッケージの中のsolve_ivp関数が用いられる。methodオプションで指定した様々なアルゴリズムを用いることができる。"
   ]
  },
  {
   "attachments": {},
   "cell_type": "markdown",
   "metadata": {},
   "source": []
  }
 ],
 "metadata": {
  "language_info": {
   "name": "python"
  },
  "orig_nbformat": 4
 },
 "nbformat": 4,
 "nbformat_minor": 2
}
