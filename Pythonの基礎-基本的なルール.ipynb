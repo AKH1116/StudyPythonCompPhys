{
 "cells": [
  {
   "cell_type": "markdown",
   "metadata": {},
   "source": [
    "# Pythonの基礎 -基本的なルール\n",
    "このノートは、Pythonの基本的なルールや構文についてのメモである。"
   ]
  },
  {
   "cell_type": "markdown",
   "metadata": {},
   "source": [
    "## データ型　整数、真偽値、文字列型\n",
    "Pythonで取り扱えるデータは、基本的には以下の3種類である。\n",
    "- 数値型\n",
    "- 文字列型\n",
    "- 真偽値型\n",
    "  \n",
    "変数とはこれらのデータに紐付けられるラベルである。例えば、以下のようにプログラミングされる。"
   ]
  },
  {
   "cell_type": "code",
   "execution_count": 1,
   "metadata": {},
   "outputs": [],
   "source": [
    "x_int = 12          # xを整数(int)型として定義\n",
    "x_float = 12.0      # xを浮動小数点型(float)として定義\n",
    "y = True            # yを真偽値型(bool)変数として定義 Falseとしても定義される\n",
    "z = \"PC\"            # zを文字列型(str)として定義　\" \"や' 'で囲むとstr型として認識される"
   ]
  },
  {
   "cell_type": "markdown",
   "metadata": {},
   "source": [
    "変数名（上の例では、x_int、x_float、y、z）は基本的には何でもよいが、予約語と呼ばれる特別な単語（True、False、forなど）は変数名として使用できない。  \n",
    "\n",
    "  \n",
    "Pythonでは、C言語やFORTRANなどのコンパイラ型言語のようにあらかじめ変数の型宣言をする必要がなく、ダイレクトに変数に数値、文字列を定義する。このような言語をインタプリタ型言語という。  \n",
    "  \n",
    "データ型には、それぞれ演算子が定義されており、たとえば、数値型に対する算術演算子としては、以下のようになる。"
   ]
  },
  {
   "cell_type": "code",
   "execution_count": 2,
   "metadata": {},
   "outputs": [],
   "source": [
    "x = 3 + 2       # 加算\n",
    "x = 3 - 2       # 減算\n",
    "x = 3 * 2       # 乗算\n",
    "x = 3 / 2       # 除算\n",
    "x = 3 // 2      # 除算（整数除算の商）\n",
    "x = 3 % 2       # 除算（整数除算の余）\n",
    "x = 3 ** 2      # 冪乗"
   ]
  },
  {
   "cell_type": "markdown",
   "metadata": {},
   "source": [
    "## データ型 リスト、タプル、集合、辞書\n",
    "Pythonのデータ型には、上であげた基本的なデータ型を要素に持つ複合的な型（コンテナ型）がある。  \n",
    "よく使用されるのが、以下のものである。  \n",
    "- リスト\n",
    "- タプル\n",
    "- 集合\n",
    "- 辞書  "
   ]
  },
  {
   "cell_type": "markdown",
   "metadata": {},
   "source": [
    "### リスト\n",
    "リストは他のプログラミング言語で言うと、配列に近いデータ型で、カンマで区切られた要素を[ ]で囲むことで定義される。  \n",
    "下記の例では、整数1、2、3を含む数値のリストxおよび文字列Hello、(blank)、worldを含む文字列のリストyを定義している。  \n",
    "リストにはどんなデータ型でも入れることができる。また、異なるデータ型を混ぜて[1, 2, \"world\"]と定義することもできる。  \n",
    "リストの各要素には[(index)]でアクセスできる。なお、Pythonではインデックスの始まりは0からである。"
   ]
  },
  {
   "cell_type": "code",
   "execution_count": 5,
   "metadata": {},
   "outputs": [
    {
     "name": "stdout",
     "output_type": "stream",
     "text": [
      "1\n",
      "world\n"
     ]
    }
   ],
   "source": [
    "x = [1, 2, 3]\n",
    "y = [\"Hello\", \" \", \"world\"]\n",
    "print(x[0])\n",
    "print(y[2])"
   ]
  },
  {
   "cell_type": "markdown",
   "metadata": {},
   "source": [
    "そのほか、リストを用いた基本的な演算や操作として、以下のようなものがある。\n",
    "- +演算子　リストの結合\n",
    "- len関数　リストの長さ（要素数）を取得\n",
    "- in リストに要素が含まれるかの判定\n",
    "- appendメソッド　リストの最後に要素を追加\n",
    "- for a in リスト名　リストの要素で繰り返し処理を行う"
   ]
  },
  {
   "cell_type": "code",
   "execution_count": 8,
   "metadata": {},
   "outputs": [
    {
     "name": "stdout",
     "output_type": "stream",
     "text": [
      "[1, 2, 3, 'Hello', ' ', 'world']\n",
      "3\n",
      "True\n",
      "a= 1\n",
      "a= 2\n",
      "a= 3\n",
      "a= X\n"
     ]
    }
   ],
   "source": [
    "print(x + y)\n",
    "print(len(x))\n",
    "print(2 in x)\n",
    "x.append(\"X\")   # リストxの最後に文字列\"X\"を追加\n",
    "\n",
    "for a in x:\n",
    "    print(\"a=\", a)"
   ]
  },
  {
   "cell_type": "code",
   "execution_count": null,
   "metadata": {},
   "outputs": [],
   "source": []
  }
 ],
 "metadata": {
  "kernelspec": {
   "display_name": "Python 3.10.7 64-bit",
   "language": "python",
   "name": "python3"
  },
  "language_info": {
   "codemirror_mode": {
    "name": "ipython",
    "version": 3
   },
   "file_extension": ".py",
   "mimetype": "text/x-python",
   "name": "python",
   "nbconvert_exporter": "python",
   "pygments_lexer": "ipython3",
   "version": "3.10.7"
  },
  "orig_nbformat": 4,
  "vscode": {
   "interpreter": {
    "hash": "b0fa6594d8f4cbf19f97940f81e996739fb7646882a419484c72d19e05852a7e"
   }
  }
 },
 "nbformat": 4,
 "nbformat_minor": 2
}
