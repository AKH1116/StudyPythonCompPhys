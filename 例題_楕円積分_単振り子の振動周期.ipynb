{
 "cells": [
  {
   "attachments": {},
   "cell_type": "markdown",
   "metadata": {},
   "source": [
    "# 例題 楕円積分 単振り子の振動周期\n",
    "長さ$l$の糸に繋がれた質点の運動を考える（単振り子）。  \n",
    "重力加速度を$g$、鉛直方向から測った糸の最大角度を$\\alpha$とすると、振動周期$T$は以下のようになる。  \n",
    "$$\n",
    "T = 4\\sqrt{\\frac{g}{l}}K(\\sin^2 \\frac{\\alpha}{2})\n",
    "$$\n",
    "  \n",
    "$l=1m$、$g=9.8 m/s^2$、$\\alpha=\\pi/3$として、以下の楕円積分を実行し、単振り子の振動周期を計算する。  \n",
    "$$\n",
    "K(a) = \\int_{0}^{\\pi/2}\\frac{d\\theta}{\\sqrt{1-a\\sin^2\\theta}}\n",
    "$$"
   ]
  },
  {
   "attachments": {},
   "cell_type": "markdown",
   "metadata": {},
   "source": [
    "## 実装方針\n",
    "Scipyライブラリのscipy.integrateモジュールを用いる。  \n",
    "- 合成シンプソン則を用いる場合は、scipy.integrate.simpsを使用する。\n",
    "- ガウス求積法を用いる場合は、scipy.integrate.quadを使用する"
   ]
  },
  {
   "attachments": {},
   "cell_type": "markdown",
   "metadata": {},
   "source": [
    "## シンプソン則での実装例\n",
    "以下に、シンプソン則を用いた実装例を示す。"
   ]
  },
  {
   "cell_type": "code",
   "execution_count": 8,
   "metadata": {},
   "outputs": [
    {
     "name": "stdout",
     "output_type": "stream",
     "text": [
      "T = 2.15397e+00\n"
     ]
    }
   ],
   "source": [
    "import numpy as np\n",
    "from scipy.integrate import simps\n",
    "\n",
    "func = lambda theta, a : 1/np.sqrt(1 - a*(np.sin(theta))**2)\n",
    "\n",
    "l = 1.0\n",
    "g = 9.8\n",
    "a = np.sin(np.pi/6) ** 2\n",
    "theta = np.linspace(0, np.pi/2, 100)\n",
    "T = 4 * np.sqrt(l/g) * simps(func(theta, a), theta)\n",
    "\n",
    "print(\"T = {0:.5e}\".format(T))"
   ]
  },
  {
   "cell_type": "code",
   "execution_count": null,
   "metadata": {},
   "outputs": [],
   "source": []
  }
 ],
 "metadata": {
  "kernelspec": {
   "display_name": "Python 3",
   "language": "python",
   "name": "python3"
  },
  "language_info": {
   "codemirror_mode": {
    "name": "ipython",
    "version": 3
   },
   "file_extension": ".py",
   "mimetype": "text/x-python",
   "name": "python",
   "nbconvert_exporter": "python",
   "pygments_lexer": "ipython3",
   "version": "3.10.7"
  },
  "orig_nbformat": 4
 },
 "nbformat": 4,
 "nbformat_minor": 2
}
