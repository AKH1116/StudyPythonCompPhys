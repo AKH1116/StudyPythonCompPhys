{
 "cells": [
  {
   "attachments": {},
   "cell_type": "markdown",
   "metadata": {},
   "source": [
    "# Pythonの基礎ライブラリ \n",
    "ここでは、ライブラリについての基礎的事項のメモを記す。  \n",
    "特に、科学技術計算でよく用いられるライブラリには、NumpyやScipyがある。"
   ]
  },
  {
   "attachments": {},
   "cell_type": "markdown",
   "metadata": {},
   "source": [
    "## ライブラリの基礎  \n",
    "- モジュール・・・よく使用される関数やクラスをまとめたもの\n",
    "- ライブラリ・・・複数モジュールを束ねたもの、パッケージを指す  \n",
    "  \n",
    "パッケージやモジュールの呼び出しには、import文を用いる。かなり柔軟な書き方にも対応していて、Numpyの呼び出しを例にとると、以下のようになる。"
   ]
  },
  {
   "cell_type": "code",
   "execution_count": 1,
   "metadata": {},
   "outputs": [],
   "source": [
    "import numpy            # numpyパッケージを読み込む\n",
    "import numpy as np      # numpyパッケージをnpという名前で読み込む\n",
    "from numpy import random    # numpyパッケージの中のrandomモジュールを読み込む\n",
    "import numpy.random         # 同じモジュールをnumpy.randomと言う名前で読み込む\n",
    "from numpy import *         # numpyパッケージの全モジュールを読み込む"
   ]
  },
  {
   "attachments": {},
   "cell_type": "markdown",
   "metadata": {},
   "source": [
    "## 標準ライブラリ \n",
    "ここでは、プログラムの実行速度を計測できる標準ライブラリを紹介する。代表的なものとして、timeモジュールの使用が挙げられる。"
   ]
  },
  {
   "cell_type": "code",
   "execution_count": 2,
   "metadata": {},
   "outputs": [
    {
     "name": "stdout",
     "output_type": "stream",
     "text": [
      "0.2881929874420166\n"
     ]
    }
   ],
   "source": [
    "import time\n",
    "t1 = time.time()        # 処理前の時刻を取得\n",
    "for i in range(1000000):\n",
    "    i ** 10\n",
    "t2 = time.time()        # 処理後の時刻を取得\n",
    "elapsed_time = t2 - t1\n",
    "print(elapsed_time)     # 経過時間を出力（sec） "
   ]
  },
  {
   "attachments": {},
   "cell_type": "markdown",
   "metadata": {},
   "source": [
    "比較的大きなプログラムを組む場合、どの処理がボトルネックになっているかを調べることはプログラムを高速化する上では重要である。その場合に便利なモジュールとして、\"cProfile\"というものがある。例えば、以下のようにして使用する。"
   ]
  },
  {
   "cell_type": "code",
   "execution_count": 5,
   "metadata": {},
   "outputs": [
    {
     "name": "stdout",
     "output_type": "stream",
     "text": [
      "         7 function calls in 1.091 seconds\n",
      "\n",
      "   Ordered by: standard name\n",
      "\n",
      "   ncalls  tottime  percall  cumtime  percall filename:lineno(function)\n",
      "        1    0.000    0.000    1.091    1.091 3032596829.py:2(func)\n",
      "        1    0.662    0.662    0.662    0.662 3032596829.py:3(func1)\n",
      "        2    0.429    0.215    0.429    0.215 3032596829.py:6(func2)\n",
      "        1    0.000    0.000    1.091    1.091 <string>:1(<module>)\n",
      "        1    0.000    0.000    1.091    1.091 {built-in method builtins.exec}\n",
      "        1    0.000    0.000    0.000    0.000 {method 'disable' of '_lsprof.Profiler' objects}\n",
      "\n",
      "\n"
     ]
    }
   ],
   "source": [
    "import cProfile\n",
    "def func():\n",
    "    def func1():\n",
    "        for i in range(3000000):\n",
    "            i ** 2\n",
    "    def func2():\n",
    "        for i in range(1000000):\n",
    "            i ** 2\n",
    "    func1()\n",
    "    func2()\n",
    "    func2()\n",
    "cProfile.run(\"func()\")  # run関数に処理を渡して実行"
   ]
  },
  {
   "attachments": {},
   "cell_type": "markdown",
   "metadata": {},
   "source": [
    "## Numpyライブラリ  \n",
    "Numpyライブラリは、数値計算を行うために必須なライブラリである。  \n",
    "ndarrayクラスは、行列やベクトルを表現するクラスタであり、関連する様々なメソッドや演算が定義されている。"
   ]
  },
  {
   "cell_type": "code",
   "execution_count": 6,
   "metadata": {},
   "outputs": [],
   "source": [
    "import numpy as np\n",
    "a = np.array([1,2,3])"
   ]
  },
  {
   "attachments": {},
   "cell_type": "markdown",
   "metadata": {},
   "source": [
    "他にも様々な初期化関数が用意されている。たとえば、以下のようなものがある。"
   ]
  },
  {
   "cell_type": "code",
   "execution_count": 7,
   "metadata": {},
   "outputs": [
    {
     "data": {
      "text/plain": [
       "array([[1., 0., 0., 0., 0., 0., 0., 0., 0., 0.],\n",
       "       [0., 1., 0., 0., 0., 0., 0., 0., 0., 0.],\n",
       "       [0., 0., 1., 0., 0., 0., 0., 0., 0., 0.],\n",
       "       [0., 0., 0., 1., 0., 0., 0., 0., 0., 0.],\n",
       "       [0., 0., 0., 0., 1., 0., 0., 0., 0., 0.],\n",
       "       [0., 0., 0., 0., 0., 1., 0., 0., 0., 0.],\n",
       "       [0., 0., 0., 0., 0., 0., 1., 0., 0., 0.],\n",
       "       [0., 0., 0., 0., 0., 0., 0., 1., 0., 0.],\n",
       "       [0., 0., 0., 0., 0., 0., 0., 0., 1., 0.],\n",
       "       [0., 0., 0., 0., 0., 0., 0., 0., 0., 1.]])"
      ]
     },
     "execution_count": 7,
     "metadata": {},
     "output_type": "execute_result"
    }
   ],
   "source": [
    "np.zeros(2)             # 要素がすべて0の1次元配列\n",
    "np.ones((2,2))          # 要素がすべて1の2次元配列\n",
    "np.arange(2,9,2)        # 2以上9未満の偶数のみの配列\n",
    "np.linspace(0, 10, 5)   # 0以上10以下、2.5刻みの配列\n",
    "np.eye(10)              # 10✖️10の単位行列    "
   ]
  },
  {
   "attachments": {},
   "cell_type": "markdown",
   "metadata": {},
   "source": [
    "ndarrayクラスの便利な点は、数値計算に必要な様々な処理が関数として定義されている点であり、適切な関数をコールして使うことで、高速に動作するコードを簡潔に書けることである。たとえば、データのソートは以下のように１行で書ける。"
   ]
  },
  {
   "cell_type": "code",
   "execution_count": 9,
   "metadata": {},
   "outputs": [
    {
     "data": {
      "text/plain": [
       "array([1, 2, 3, 4, 5, 6, 7, 8])"
      ]
     },
     "execution_count": 9,
     "metadata": {},
     "output_type": "execute_result"
    }
   ],
   "source": [
    "a = np.array([2,1,5,3,7,4,6,8])\n",
    "np.sort(a)"
   ]
  },
  {
   "attachments": {},
   "cell_type": "markdown",
   "metadata": {},
   "source": [
    "少し実践的な例として、n番目の要素が$\\exp(2\\pi n/N)$ (n=0,1, ・・・,N-1)で与えられる1次元配列を取得する問題を考える。"
   ]
  },
  {
   "cell_type": "code",
   "execution_count": 12,
   "metadata": {},
   "outputs": [
    {
     "name": "stdout",
     "output_type": "stream",
     "text": [
      "[1.        +0.j         0.9999998 +0.00062832j 0.99999921+0.00125664j ...\n",
      " 0.99999822-0.00188495j 0.99999921-0.00125664j 0.9999998 -0.00062832j]\n"
     ]
    }
   ],
   "source": [
    "N, a = 10000, []\n",
    "i = np.arange(N)/N\n",
    "a = np.exp(2j * np.pi * i)\n",
    "print(a)"
   ]
  },
  {
   "attachments": {},
   "cell_type": "markdown",
   "metadata": {},
   "source": [
    "2次元のndarrayオブジェクト、つまり行列は次のように記述する。"
   ]
  },
  {
   "cell_type": "code",
   "execution_count": 18,
   "metadata": {},
   "outputs": [
    {
     "name": "stdout",
     "output_type": "stream",
     "text": [
      "[[1 1]\n",
      " [0 1]]\n",
      "[[2 0]\n",
      " [3 4]]\n",
      "[[2 0]\n",
      " [0 4]]\n",
      "[[5 4]\n",
      " [3 4]]\n",
      "[[1 0]\n",
      " [1 1]]\n"
     ]
    }
   ],
   "source": [
    "A = np.array([[1,1],[0,1]])\n",
    "B = np.array([[2,0],[3,4]])\n",
    "print(A)\n",
    "print(B)\n",
    "C = A * B       # 要素ごとの積\n",
    "D = A @ B       # 行列としての積\n",
    "print(C)\n",
    "print(D)\n",
    "print(A.T)      # 転置行列を得る"
   ]
  },
  {
   "attachments": {},
   "cell_type": "markdown",
   "metadata": {},
   "source": [
    "そのほか、numpy.linalgという線形代数演算をまとめたモジュールを使用することで、以下のように行列に関する演算もできる。"
   ]
  },
  {
   "cell_type": "code",
   "execution_count": 19,
   "metadata": {},
   "outputs": [
    {
     "name": "stdout",
     "output_type": "stream",
     "text": [
      "8.000000000000002\n",
      "[[-0.375  0.5    0.125]\n",
      " [ 0.5   -1.     0.5  ]\n",
      " [ 0.125  0.5   -0.375]]\n"
     ]
    }
   ],
   "source": [
    "A = np.array([[1,2,3],[2,1,2],[3,2,1]])\n",
    "A_det = np.linalg.det(A)           # 行列式の計算\n",
    "A_inv = np.linalg.inv(A)           # 逆行列の計算\n",
    "print(A_det)\n",
    "print(A_inv)"
   ]
  },
  {
   "attachments": {},
   "cell_type": "markdown",
   "metadata": {},
   "source": [
    "## Scipyライブラリ\n",
    "Scipyは補完、積分、最適化、画像処理、統計処理、特殊関数などを含む科学技術計算用の多彩なツールボックスである。  \n",
    "Scipyは各種の計算ツールをサブパッケージに持つ巨大なパッケージであり、それぞれ個別に呼び出して使用するのが基本的な使い方になる。"
   ]
  },
  {
   "cell_type": "code",
   "execution_count": 1,
   "metadata": {},
   "outputs": [],
   "source": [
    "import scipy        # scipy.specialパッケージを読み込む\n",
    "from scipy import special   # 上と同じだが、名前がspecialになる"
   ]
  },
  {
   "attachments": {},
   "cell_type": "markdown",
   "metadata": {},
   "source": [
    "specialモジュールには、様々な特殊関数が実装されており、例えば第１種Bessel関数$Jv(z)$を呼び出すには以下のようにする。"
   ]
  },
  {
   "cell_type": "code",
   "execution_count": 3,
   "metadata": {},
   "outputs": [
    {
     "data": {
      "text/plain": [
       "array([1.        , 0.76519769, 0.22389078])"
      ]
     },
     "execution_count": 3,
     "metadata": {},
     "output_type": "execute_result"
    }
   ],
   "source": [
    "from scipy import special\n",
    "special.jv(0,0)         # 第１引数はv、第２引数はzの値\n",
    "special.jv(0,[0,1,2])   # リストやnp.ndarrayなどにも対応"
   ]
  },
  {
   "attachments": {},
   "cell_type": "markdown",
   "metadata": {},
   "source": [
    "Scipyを用いて数値積分も行うことができる。例えば、以下のBessel関数の積分を行う。  \n",
    "$$\n",
    "I = \\int_{0}^{5}J_{2.5} (x) dx\n",
    "$$\n",
    "これを実行するには、integrateモジュールをインポートして以下のように記述する。"
   ]
  },
  {
   "attachments": {},
   "cell_type": "markdown",
   "metadata": {},
   "source": []
  },
  {
   "cell_type": "code",
   "execution_count": 5,
   "metadata": {},
   "outputs": [
    {
     "name": "stdout",
     "output_type": "stream",
     "text": [
      "(1.271185605806995, 1.1793280638035841e-08)\n"
     ]
    }
   ],
   "source": [
    "from scipy import integrate\n",
    "def func(x):\n",
    "    return special.jv(2.5, x)\n",
    "res = integrate.quad(func, 0, 5)\n",
    "print(res)"
   ]
  },
  {
   "attachments": {},
   "cell_type": "markdown",
   "metadata": {},
   "source": [
    "情報処理などで頻繁に用いられるフーリエ変換も簡単に実行できる。  \n",
    "fftモジュールを用いて以下のように実行する。 "
   ]
  },
  {
   "cell_type": "code",
   "execution_count": 8,
   "metadata": {},
   "outputs": [],
   "source": [
    "import numpy as np\n",
    "from scipy.fft import fft\n",
    "N, T = 600, 1/800           # サンプリング数とサンプリング間隔の定義\n",
    "x = np.linspace(0, N*T, N, endpoint=False)\n",
    "y = np.sin(50*2*np.pi*x) + 0.5 * np.sin(80*2*np.pi*x)\n",
    "yf = fft(y)                 # フーリエ変換"
   ]
  },
  {
   "attachments": {},
   "cell_type": "markdown",
   "metadata": {},
   "source": [
    "## Matplotlib  \n",
    "数値計算の解釈・理解には計算結果の可視化が欠かせない。Matplotlibを使うと、NumpyやScipyで計算した結果を使って、様々な図を書くことができる。  \n",
    "Matplotlibの表現能力は高く、Excelでの図・グラフよりも見栄えの良いのを描くことができる。  \n",
    "  \n",
    "ここでは、最も基本的な使い方として、xy平面上に適当な関数y(x)をプロットしてみる。"
   ]
  },
  {
   "cell_type": "code",
   "execution_count": 1,
   "metadata": {},
   "outputs": [
    {
     "data": {
      "image/png": "[encoded data removed]",
      "text/plain": [
       "<Figure size 640x480 with 1 Axes>"
      ]
     },
     "metadata": {},
     "output_type": "display_data"
    }
   ],
   "source": [
    "import matplotlib.pyplot as plt\n",
    "import numpy as np\n",
    "x = np.linspace(0, 2*np.pi, 10)\n",
    "y = np.sin(x)           # プロットしたい1次元配列を準備\n",
    "plt.plot(x, y, color=\"red\", linestyle=\"dashed\", label=\"sin\")  # x,y座標データの他、色やスタイル、凡例の指定ができる\n",
    "plt.scatter(x, y, s=30, c=\"blue\")   # 散布図のプロットにはscatterを用いる\n",
    "plt.legend()   # 凡例の表示\n",
    "plt.show()     # 描画\n"
   ]
  },
  {
   "attachments": {},
   "cell_type": "markdown",
   "metadata": {},
   "source": [
    "また、2次元データを画像として表示するのに、imshow関数、ヒストグラムの計算と描画にhist関数を使用できる。例えば以下のようになる。"
   ]
  },
  {
   "cell_type": "code",
   "execution_count": 3,
   "metadata": {},
   "outputs": [
    {
     "data": {
      "image/png": "[encoded data removed]",
      "text/plain": [
       "<Figure size 640x480 with 2 Axes>"
      ]
     },
     "metadata": {},
     "output_type": "display_data"
    }
   ],
   "source": [
    "a = np.linspace(0, 4*np.pi, 100)\n",
    "x, y = np.meshgrid(a, a)        # 2次元メッシュの生成\n",
    "z = np.sin(x) + 0.2*np.cos(y)   # プロットしたい配列の準備\n",
    "plt.imshow(z)\n",
    "plt.colorbar()     # カラーバーの表示\n",
    "plt.show()"
   ]
  },
  {
   "attachments": {},
   "cell_type": "markdown",
   "metadata": {},
   "source": [
    "正規分布関数に従う乱数を生成するnp.random.normalを用いて、以下のようにヒストグラムを描画してみる。"
   ]
  },
  {
   "cell_type": "code",
   "execution_count": 4,
   "metadata": {},
   "outputs": [
    {
     "data": {
      "image/png": "[encoded data removed]",
      "text/plain": [
       "<Figure size 640x480 with 1 Axes>"
      ]
     },
     "metadata": {},
     "output_type": "display_data"
    }
   ],
   "source": [
    "x = np.random.normal(5, 1, 1000)    # 平均5、標準偏差1の乱数を1000点生成して1次元配列にする\n",
    "plt.hist(x, bins=15, density=True)  # ヒストグラムの表示、binsはビン数の指定、density=Trueは正規化\n",
    "plt.show()\n"
   ]
  },
  {
   "cell_type": "code",
   "execution_count": null,
   "metadata": {},
   "outputs": [],
   "source": []
  }
 ],
 "metadata": {
  "kernelspec": {
   "display_name": "Python 3",
   "language": "python",
   "name": "python3"
  },
  "language_info": {
   "codemirror_mode": {
    "name": "ipython",
    "version": 3
   },
   "file_extension": ".py",
   "mimetype": "text/x-python",
   "name": "python",
   "nbconvert_exporter": "python",
   "pygments_lexer": "ipython3",
   "version": "3.10.7"
  },
  "orig_nbformat": 4
 },
 "nbformat": 4,
 "nbformat_minor": 2
}
