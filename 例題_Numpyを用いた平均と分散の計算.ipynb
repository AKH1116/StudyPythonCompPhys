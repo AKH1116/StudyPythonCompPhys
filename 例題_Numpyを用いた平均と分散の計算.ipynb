{
 "cells": [
  {
   "attachments": {},
   "cell_type": "markdown",
   "metadata": {},
   "source": [
    "# 例題 Numpyを用いた平均と分散の計算  \n",
    "np.random.randn()関数は、標準正規分布に従う乱数を並べた任意のサイズのndarray配列を作ることができる。この関数を用いて1次元配列を生成し、その要素の平均と分散を実際に計算する。また、for文を用いた実装とNumpyの関数を用いた実装での計算時間の計測を行い、比較してみる。"
   ]
  },
  {
   "cell_type": "code",
   "execution_count": 2,
   "metadata": {},
   "outputs": [],
   "source": [
    "# 適当な大きさの乱数配列を生成する\n",
    "import numpy as np\n",
    "n = 5000\n",
    "a = np.random.randn(n)"
   ]
  },
  {
   "cell_type": "code",
   "execution_count": 5,
   "metadata": {},
   "outputs": [
    {
     "name": "stdout",
     "output_type": "stream",
     "text": [
      "Elapsed time: 0.002115964889526367\n"
     ]
    }
   ],
   "source": [
    "# まずfor文を使った実装での計算時間を計測する\n",
    "import time\n",
    "t1 = time.time()\n",
    "mean = 0\n",
    "mean2 = 0\n",
    "for x in a:\n",
    "    mean += x\n",
    "    mean2 += x**2\n",
    "mean = mean / n\n",
    "sigma = mean2 / n - (mean/n)**2\n",
    "t2 = time.time()\n",
    "elapsed_time = t2 - t1\n",
    "print(\"Elapsed time:\", elapsed_time)"
   ]
  },
  {
   "cell_type": "code",
   "execution_count": 7,
   "metadata": {},
   "outputs": [
    {
     "name": "stdout",
     "output_type": "stream",
     "text": [
      "Elapsed time: 0.0001461505889892578\n"
     ]
    }
   ],
   "source": [
    "# numpy関数を使った実装での計算時間を計測する\n",
    "t1 = time.time()\n",
    "mean = np.mean(a)\n",
    "sigma = np.var(a)\n",
    "t2 = time.time()\n",
    "elapsed_time = t2 - t1\n",
    "print(\"Elapsed time:\", elapsed_time)"
   ]
  },
  {
   "attachments": {},
   "cell_type": "markdown",
   "metadata": {},
   "source": [
    "このように、numpy関数を用いた実装の方が断然高速であり、配列の要素数が大きいほど顕著である。"
   ]
  },
  {
   "attachments": {},
   "cell_type": "markdown",
   "metadata": {},
   "source": []
  }
 ],
 "metadata": {
  "kernelspec": {
   "display_name": "Python 3",
   "language": "python",
   "name": "python3"
  },
  "language_info": {
   "codemirror_mode": {
    "name": "ipython",
    "version": 3
   },
   "file_extension": ".py",
   "mimetype": "text/x-python",
   "name": "python",
   "nbconvert_exporter": "python",
   "pygments_lexer": "ipython3",
   "version": "3.10.7"
  },
  "orig_nbformat": 4
 },
 "nbformat": 4,
 "nbformat_minor": 2
}
